{
  "nbformat": 4,
  "nbformat_minor": 0,
  "metadata": {
    "language_info": {
      "codemirror_mode": {
        "name": "ipython",
        "version": 3
      },
      "file_extension": ".py",
      "mimetype": "text/x-python",
      "name": "python",
      "nbconvert_exporter": "python",
      "pygments_lexer": "ipython3",
      "version": "3.7.0-final"
    },
    "orig_nbformat": 2,
    "kernelspec": {
      "name": "python3",
      "display_name": "Python 3",
      "language": "python"
    },
    "colab": {
      "name": "Pwd_Strength.ipynb",
      "provenance": [],
      "collapsed_sections": [],
      "toc_visible": true
    }
  },
  "cells": [
    {
      "cell_type": "markdown",
      "metadata": {
        "id": "-_5jphRmKSEV"
      },
      "source": [
        "# Password Strength Classifier\n",
        "\n",
        "The purpose of this model is to rate a password as being either strong, medium or weak. It will make these ratings using a MLP network trained using a vectorized dataset"
      ]
    },
    {
      "source": [
        "## Preface: Meet the Dataset\n",
        "\n",
        "The dataset for this project came from [Kaggle](https://www.kaggle.com/bhavikbb/password-strength-classifier-dataset), but it orignally appeared as part of the 000webhost data leak of over 3 million passwords. However, this dataset contains only around 670k entries.\n",
        "\n",
        "Each password is labelled as either weak (0), medium (1), or strong (2). A tool from Georgia Tech University made these ratings based on the algorithms of commercial password meters. The dataset was reduced significantly due to the fact that only passwords that recieved the same label from ALL algorithms in the Georgia Tech toolchain remain.\n",
        "\n",
        "It is worth noting that the dataset is strongly biased toward medium passwords, due to the fact that most people probably don't have very strong passwords..."
      ],
      "cell_type": "markdown",
      "metadata": {}
    },
    {
      "cell_type": "markdown",
      "metadata": {
        "id": "CL3HvUw3KSEb"
      },
      "source": [
        "## 1.0 Generate Features and Labels from Dataset\n",
        "\n",
        "The CSV file may contain passwords that have commas as part of the string, so it must be parsed manually"
      ]
    },
    {
      "cell_type": "code",
      "metadata": {
        "tags": [],
        "id": "KcHrjxPCKSEb"
      },
      "source": [
        "path = 'data.csv'\n",
        "\n",
        "# Import file\n",
        "with open(path) as f:\n",
        "    content = f.readlines()\n",
        "\n",
        "# Remove header\n",
        "content.pop(0)\n",
        "\n",
        "features = []\n",
        "labels = []\n",
        "for line in content:\n",
        "    # Contains everything up to (but not including) the comma\n",
        "    feat = line[:-3]\n",
        "    # Just the rating\n",
        "    lab = int(line[-2])\n",
        "\n",
        "    features.append(feat)\n",
        "    labels.append(lab)"
      ],
      "execution_count": 17,
      "outputs": []
    },
    {
      "cell_type": "markdown",
      "metadata": {
        "id": "UFkLlq3mKSEc"
      },
      "source": [
        "## 2.0 Vectorize Features\n",
        "\n",
        "The only feature in this dataset is the password itself. In order to extract meaningful information from this feature, each password will be converted into a vector.\n",
        "\n",
        "This process involves assigning an integer to each character that appears in the feature space. Here, we will use the TF-IDF algorithim, This vectorizer counts the term frequency, or how many times each character appears in the password. After, it will find how many times the character appears in the entire dataset (document frequency) and take its inverse. These metrics create additional features that represent the impact of certain characters or sequences of characters in making a strong password"
      ]
    },
    {
      "cell_type": "code",
      "metadata": {
        "id": "gU-q9rSiKSEc"
      },
      "source": [
        "from sklearn.feature_extraction.text import TfidfVectorizer\n",
        "import pickle\n",
        "\n",
        "class Vectorizer:\n",
        "    def __init__(self, text):\n",
        "        self.vectorizer = TfidfVectorizer(tokenizer=self.tokenize)\n",
        "        self.vectorizer.fit(text)\n",
        "\n",
        "    def encode(self, text):\n",
        "        return self.vectorizer.transform(text)\n",
        "\n",
        "    def tokenize(self, word):\n",
        "      chars = []\n",
        "      for i in word:\n",
        "        chars.append(i)\n",
        "      return chars\n",
        "\n",
        "    def export(self, filename):\n",
        "      with open(filename, 'wb') as file:\n",
        "        pickle.dump(self.vectorizer, file)\n",
        "\n",
        "    @property\n",
        "    def vocabulary(self):\n",
        "      return self.vectorizer.vocabulary_"
      ],
      "execution_count": 18,
      "outputs": []
    },
    {
      "cell_type": "code",
      "metadata": {
        "colab": {
          "base_uri": "https://localhost:8080/"
        },
        "id": "YY6SuucrKSEd",
        "outputId": "abb0cf59-7921-4a60-bc5d-3ec9817ff78c"
      },
      "source": [
        "vectorizer = Vectorizer(features)\n",
        "x = vectorizer.encode(features)\n",
        "y = labels\n",
        "\n",
        "# Cleanup\n",
        "del features\n",
        "del labels"
      ],
      "execution_count": 19,
      "outputs": [
        {
          "output_type": "stream",
          "text": [
            "/usr/local/lib/python3.6/dist-packages/sklearn/feature_extraction/text.py:507: UserWarning: The parameter 'token_pattern' will not be used since 'tokenizer' is not None'\n",
            "  warnings.warn(\"The parameter 'token_pattern' will not be used\"\n"
          ],
          "name": "stderr"
        }
      ]
    },
    {
      "cell_type": "markdown",
      "metadata": {
        "id": "BlxXec-KNi29"
      },
      "source": [
        "### 2.1 Explore Vectorizer"
      ]
    },
    {
      "cell_type": "code",
      "metadata": {
        "colab": {
          "base_uri": "https://localhost:8080/"
        },
        "id": "ZlIU531LNn-W",
        "outputId": "068581e3-3f35-49ef-fff5-3bade9dfa953"
      },
      "source": [
        "print(\"VOCABULARY\")\n",
        "print(vectorizer.vocabulary)\n",
        "print(\"=======================================================================\")\n",
        "print(\"\\nEXAMPLE ENTRY\")\n",
        "print(\"  CHAR CODE\\tTF-IDF Score\")\n",
        "print(x[500])"
      ],
      "execution_count": 20,
      "outputs": [
        {
          "output_type": "stream",
          "text": [
            "VOCABULARY\n",
            "{'k': 67, 'z': 82, 'd': 60, 'e': 61, '5': 40, '7': 42, 'i': 65, 'n': 70, 'o': 71, '3': 38, '4': 39, 'v': 78, 's': 75, '1': 36, 'y': 81, 'r': 74, 'm': 69, 'g': 63, '2': 37, 'l': 68, 'a': 57, 'b': 58, 'h': 64, 'q': 73, 'f': 62, 't': 76, 'u': 77, '6': 41, 'c': 59, '8': 43, 'w': 79, '9': 44, '0': 35, 'j': 66, 'p': 72, '@': 50, '-': 32, 'x': 80, '.': 33, '>': 48, '&': 26, '?': 49, '<': 46, '!': 21, ';': 45, '_': 55, '%': 25, '±': 100, '\"': 22, '~': 86, '+': 30, '^': 54, '/': 34, '$': 24, ')': 28, ' ': 20, '(': 27, '#': 23, ',': 31, 'ú': 139, '*': 29, '`': 56, '{': 83, '}': 85, '[': 51, ']': 53, 'þ': 143, 'ó': 133, 'ô': 134, '=': 47, '\\\\': 52, '\\x1c': 17, '³': 102, '¿': 113, '\\x16': 12, 'ò': 132, '·': 106, '\\x1e': 19, '\\x19': 15, '\\x05': 3, '\\x1b': 16, 'å': 121, '‚': 148, 'ä': 120, 'à': 116, 'õ': 135, 'ß': 115, '´': 103, '«': 97, 'ð': 130, 'â': 118, '°': 99, '|': 84, '\\x7f': 87, '²': 101, '¾': 112, 'ÿ': 144, '\\x08': 5, 'ê': 126, 'á': 117, '\\x10': 8, '\\x17': 13, 'º': 108, '¡': 91, '÷': 137, 'í': 127, 'µ': 104, 'ý': 142, 'ü': 141, 'û': 140, 'ö': 136, '×': 114, '¨': 96, '\\xa0': 90, 'æ': 122, 'è': 124, 'ù': 138, 'é': 125, '\\x06': 4, 'ñ': 131, '\\x81': 88, '\\x11': 9, '—': 147, '›': 152, '‹': 151, 'œ': 145, '™': 153, '¦': 94, '\\x0f': 7, 'ï': 129, 'ç': 123, '\\x12': 10, '\\x8d': 89, 'î': 128, '¹': 107, '¶': 105, '¼': 110, '…': 150, '\\x13': 11, '\\x1d': 18, '\\x04': 2, '\\x0e': 6, '\\x02': 1, '¯': 98, '\\x01': 0, '‡': 149, '¤': 93, '¢': 92, 'ƒ': 146, '§': 95, 'ã': 119, '»': 109, '\\x18': 14, '½': 111}\n",
            "=======================================================================\n",
            "\n",
            "EXAMPLE ENTRY\n",
            "  CHAR CODE\tTF-IDF Score\n",
            "  (0, 77)\t0.3968766458349615\n",
            "  (0, 69)\t0.3820353290632779\n",
            "  (0, 60)\t0.41640568647276344\n",
            "  (0, 58)\t0.4617589052975186\n",
            "  (0, 40)\t0.41314256339884164\n",
            "  (0, 35)\t0.3731436389624266\n"
          ],
          "name": "stdout"
        }
      ]
    },
    {
      "cell_type": "markdown",
      "metadata": {
        "id": "AJ-w6S9CEE5M"
      },
      "source": [
        "### 2.2 Export Vectorizer\n",
        "This will be useful later for vectorizing user input"
      ]
    },
    {
      "cell_type": "code",
      "metadata": {
        "id": "tFb0R5WlEEDj"
      },
      "source": [
        "vectorizer.export('vectorizer.pkl')"
      ],
      "execution_count": 21,
      "outputs": []
    },
    {
      "cell_type": "markdown",
      "metadata": {
        "id": "tgWu0ShhKSEd"
      },
      "source": [
        "## 3.0 Prepare Data for Training\n",
        "\n",
        "As one does"
      ]
    },
    {
      "cell_type": "code",
      "metadata": {
        "id": "GxhzwRL1KSEd"
      },
      "source": [
        "from sklearn.model_selection import train_test_split\n",
        "\n",
        "x_train, x_test, y_train, y_test = train_test_split(x, y, test_size = 0.20, random_state = 0)"
      ],
      "execution_count": 8,
      "outputs": []
    },
    {
      "cell_type": "markdown",
      "metadata": {
        "id": "hrg6MRtCRCin"
      },
      "source": [
        "## 4.0 Train a Variety of Models to Asses Password Strength"
      ]
    },
    {
      "cell_type": "markdown",
      "metadata": {
        "id": "8poDTm-pSG_9"
      },
      "source": [
        "### 4.1 Multi-Layer Perceptron Classifier\n",
        "\n",
        "The main reason to dry a deep neural network first is because it is difficult to identify meaningful relationships between word vectors. Individual character counts are not inherently useful, and the random nature of passwords means that there are not likely to be obvious patterns. It will probably be best to allow an MLPC to extract correlations from the vectorization. Let's try a couple of different configurations until we like the results"
      ]
    },
    {
      "cell_type": "code",
      "metadata": {
        "colab": {
          "base_uri": "https://localhost:8080/"
        },
        "id": "_L9bC3QTRsac",
        "outputId": "35de7507-353a-4526-b9d3-866d319a6289"
      },
      "source": [
        "from sklearn.neural_network import MLPClassifier\n",
        "\n",
        "#( (100,), 480, 1e-4, 10, 1e-4, 1, 0.1):  min_loss=0.3227@i=12\n",
        "#( (100,), 480, 1e-4, 10, 1e-4, 1, 0.01): min_loss=0.0959@i=17\n",
        "#( (150,), 480, 1e-4, 10, 1e-4, 1, 0.01): min_loss=0.0674@i=20\n",
        "#( (300,), 480, 1e-4, 10, 1e-4, 1, 0.01): min_loss=0.0638@i=14\n",
        "mlpc = MLPClassifier(hidden_layer_sizes=(500, ), max_iter=480, alpha=1e-4, \\\n",
        "                     verbose=10, tol=1e-4, random_state=1, \\\n",
        "                     learning_rate_init=.01).fit(x_train, y_train)"
      ],
      "execution_count": 39,
      "outputs": [
        {
          "output_type": "stream",
          "text": [
            "Iteration 1, loss = 0.32730097\n",
            "Iteration 2, loss = 0.15563872\n",
            "Iteration 3, loss = 0.10505640\n",
            "Iteration 4, loss = 0.08861558\n",
            "Iteration 5, loss = 0.08024116\n",
            "Iteration 6, loss = 0.07518043\n",
            "Iteration 7, loss = 0.07226408\n",
            "Iteration 8, loss = 0.06894647\n",
            "Iteration 9, loss = 0.06624395\n",
            "Iteration 10, loss = 0.06292858\n",
            "Iteration 11, loss = 0.06093834\n",
            "Iteration 12, loss = 0.06022469\n",
            "Iteration 13, loss = 0.05858160\n",
            "Iteration 14, loss = 0.05673119\n",
            "Iteration 15, loss = 0.05604892\n",
            "Iteration 16, loss = 0.05496281\n",
            "Iteration 17, loss = 0.05456942\n",
            "Iteration 18, loss = 0.05446240\n",
            "Iteration 19, loss = 0.05219533\n",
            "Iteration 20, loss = 0.05220947\n",
            "Iteration 21, loss = 0.05115313\n",
            "Iteration 22, loss = 0.05066691\n",
            "Iteration 23, loss = 0.04984197\n",
            "Iteration 24, loss = 0.04932942\n",
            "Iteration 25, loss = 0.04839533\n",
            "Iteration 26, loss = 0.04916089\n",
            "Iteration 27, loss = 0.04771609\n",
            "Iteration 28, loss = 0.04738859\n",
            "Iteration 29, loss = 0.04764739\n",
            "Iteration 30, loss = 0.04709914\n",
            "Iteration 31, loss = 0.04705092\n",
            "Iteration 32, loss = 0.04689279\n",
            "Iteration 33, loss = 0.04604635\n",
            "Iteration 34, loss = 0.04627398\n",
            "Iteration 35, loss = 0.04565055\n",
            "Iteration 36, loss = 0.04551292\n",
            "Iteration 37, loss = 0.04626966\n",
            "Iteration 38, loss = 0.04520931\n",
            "Iteration 39, loss = 0.04508321\n",
            "Iteration 40, loss = 0.04466867\n",
            "Iteration 41, loss = 0.04505270\n",
            "Iteration 42, loss = 0.04538422\n",
            "Iteration 43, loss = 0.04376867\n",
            "Iteration 44, loss = 0.04487263\n",
            "Iteration 45, loss = 0.04366275\n",
            "Iteration 46, loss = 0.04437949\n",
            "Iteration 47, loss = 0.04430546\n",
            "Iteration 48, loss = 0.04373465\n",
            "Iteration 49, loss = 0.04335371\n",
            "Iteration 50, loss = 0.04379924\n",
            "Iteration 51, loss = 0.04253935\n",
            "Iteration 52, loss = 0.04258882\n",
            "Iteration 53, loss = 0.04261698\n",
            "Iteration 54, loss = 0.04305401\n",
            "Iteration 55, loss = 0.04273388\n",
            "Iteration 56, loss = 0.04221244\n",
            "Iteration 57, loss = 0.04189625\n",
            "Iteration 58, loss = 0.04190567\n",
            "Iteration 59, loss = 0.04209697\n",
            "Iteration 60, loss = 0.04286482\n",
            "Iteration 61, loss = 0.04180085\n",
            "Iteration 62, loss = 0.04154533\n",
            "Iteration 63, loss = 0.04216357\n",
            "Iteration 64, loss = 0.04124203\n",
            "Iteration 65, loss = 0.04176993\n",
            "Iteration 66, loss = 0.04169885\n",
            "Iteration 67, loss = 0.04124554\n",
            "Iteration 68, loss = 0.04113401\n",
            "Iteration 69, loss = 0.04086467\n",
            "Iteration 70, loss = 0.04109963\n",
            "Iteration 71, loss = 0.04162698\n",
            "Iteration 72, loss = 0.04115033\n",
            "Iteration 73, loss = 0.04105260\n",
            "Iteration 74, loss = 0.04091193\n",
            "Iteration 75, loss = 0.04132690\n",
            "Iteration 76, loss = 0.04077665\n",
            "Iteration 77, loss = 0.04179615\n",
            "Iteration 78, loss = 0.04093208\n",
            "Iteration 79, loss = 0.04110736\n",
            "Iteration 80, loss = 0.04093615\n",
            "Training loss did not improve more than tol=0.000100 for 10 consecutive epochs. Stopping.\n"
          ],
          "name": "stdout"
        }
      ]
    },
    {
      "cell_type": "markdown",
      "metadata": {
        "id": "w7qtWFSKlm1P"
      },
      "source": [
        "#### 4.1.1 That Took Forever... Let's Save the Model\n",
        "The MLPC model took about four hours to converge. Fortunately, the training went uninterrupted, but it would be a good idea to save the model ever 10 iterations as a fail-safe. For now, we will just export the final model"
      ]
    },
    {
      "cell_type": "code",
      "metadata": {
        "id": "uXwMfHuklsTY"
      },
      "source": [
        "import pickle\n",
        "\n",
        "pkl_filename = 'pwd_strength-mlpc-300layer-0.01dt.pkl'\n",
        "\n",
        "with open(pkl_filename, 'wb') as file:\n",
        "  pickle.dump(mlpc, file)"
      ],
      "execution_count": 41,
      "outputs": []
    },
    {
      "cell_type": "markdown",
      "metadata": {
        "id": "G2Nu6M55mqqz"
      },
      "source": [
        "#### 4.1.2 Evaluate MLPC Model\n",
        "\n",
        "After all of that time it took to train, it will be exciting to see how it performs"
      ]
    },
    {
      "cell_type": "code",
      "metadata": {
        "colab": {
          "base_uri": "https://localhost:8080/",
          "height": 296
        },
        "id": "B2qy_EhAbYwR",
        "outputId": "f8ba7a27-c8c9-4ad5-fac3-1b13c686da0e"
      },
      "source": [
        "from sklearn.metrics import f1_score, plot_confusion_matrix\n",
        "import matplotlib.pyplot as plt\n",
        "\n",
        "# Calculate F1\n",
        "y_pred = mlpc.predict(x_test)\n",
        "f1 = f1_score(y_test, y_pred, average='micro')\n",
        "\n",
        "print('F1 Score: %f' % f1)\n",
        "\n",
        "# Show multi-class confusion matrix\n",
        "cm = plot_confusion_matrix(mlpc, x_test, y_test)\n",
        "plt.show(cm)"
      ],
      "execution_count": 42,
      "outputs": [
        {
          "output_type": "stream",
          "text": [
            "F1 Score: 0.988789\n"
          ],
          "name": "stdout"
        },
        {
          "output_type": "display_data",
          "data": {
            "image/png": "[encoded data removed]",
            "text/plain": [
              "<Figure size 432x288 with 2 Axes>"
            ]
          },
          "metadata": {
            "tags": [],
            "needs_background": "light"
          }
        }
      ]
    },
    {
      "cell_type": "markdown",
      "metadata": {
        "id": "FOYfL6rc_pmJ"
      },
      "source": [
        "The F1 score for this model is very high, which is promising. This hopefully means that it is not overfit to the dataset. Looking at the confusion matrix, it performs quite well. There are MANY more medium passwords than weak or strong, but this is to be expected, as the distribution of the original dataset leads toward medium passwords. At any rate, the number of incorrectly labelled passwords is low in comparison."
      ]
    },
    {
      "cell_type": "markdown",
      "metadata": {
        "id": "Ol8i4DVUbGtR"
      },
      "source": [
        "### 4.2 Logistic Regression\n",
        "It may also be worthwhile to explore some less complex models too"
      ]
    },
    {
      "cell_type": "code",
      "metadata": {
        "colab": {
          "base_uri": "https://localhost:8080/"
        },
        "id": "4SNAJT3XR4HL",
        "outputId": "10bddf0e-40f6-44da-bb79-d5cebfee5e1f"
      },
      "source": [
        "from sklearn.linear_model import LogisticRegression as logReg\n",
        "\n",
        "lrc = logReg(max_iter=10000, random_state=1, verbose=1).fit(x_train, y_train)"
      ],
      "execution_count": 12,
      "outputs": [
        {
          "output_type": "stream",
          "text": [
            "[Parallel(n_jobs=1)]: Using backend SequentialBackend with 1 concurrent workers.\n",
            "[Parallel(n_jobs=1)]: Done   1 out of   1 | elapsed:  2.0min finished\n"
          ],
          "name": "stderr"
        }
      ]
    },
    {
      "cell_type": "markdown",
      "metadata": {
        "id": "Vb7wgJE5CWU5"
      },
      "source": [
        "#### 4.2.1 Evaluate Logistic Regression Classifier\n",
        "That one trained over 100x faster than the MLPC. Let's see how its performance compares"
      ]
    },
    {
      "cell_type": "code",
      "metadata": {
        "colab": {
          "base_uri": "https://localhost:8080/",
          "height": 296
        },
        "id": "wMEoz9s-CjsR",
        "outputId": "876a11c4-4fa6-4b5d-ba40-4354f599a1e8"
      },
      "source": [
        "from sklearn.metrics import f1_score, plot_confusion_matrix\n",
        "import matplotlib.pyplot as plt\n",
        "\n",
        "# Calculate F1\n",
        "y_pred = lrc.predict(x_test)\n",
        "f1 = f1_score(y_test, y_pred, average='micro')\n",
        "\n",
        "print('F1 Score: %f' % f1)\n",
        "\n",
        "# Show multi-class confusion matrix\n",
        "cm = plot_confusion_matrix(lrc, x_test, y_test)\n",
        "plt.show(cm)"
      ],
      "execution_count": 14,
      "outputs": [
        {
          "output_type": "stream",
          "text": [
            "F1 Score: 0.818617\n"
          ],
          "name": "stdout"
        },
        {
          "output_type": "display_data",
          "data": {
            "image/png": "[encoded data removed]",
            "text/plain": [
              "<Figure size 432x288 with 2 Axes>"
            ]
          },
          "metadata": {
            "tags": [],
            "needs_background": "light"
          }
        }
      ]
    },
    {
      "cell_type": "markdown",
      "metadata": {
        "id": "I7z05D1TC-Dx"
      },
      "source": [
        "It looks like the MLPC model wins!"
      ]
    }
  ]
}